{
 "cells": [
  {
   "cell_type": "code",
   "execution_count": null,
   "id": "1632703e",
   "metadata": {},
   "outputs": [],
   "source": [
    "from transformers import pipeline\n",
    "\n",
    "# Load the NER model\n",
    "ner_model = pipeline(\"token-classification\", model=\"loolootech/no-name-ner-th\", device=\"cpu\")\n",
    "\n",
    "input_text = \"คนไข้ชื่อสมชาย ได้รับยาจากหมอเหน่ง ให้โทรหาที่เบอร์ 081-123-4567\"\n",
    "\n",
    "# Get the raw output from the model\n",
    "ner_results = ner_model(input_text)"
   ]
  },
  {
   "cell_type": "code",
   "execution_count": null,
   "id": "293e502a",
   "metadata": {},
   "outputs": [],
   "source": [
    "# Let's say we want to anonymize just a few types of entities for demonstration purposes.\n",
    "# You can expand this dictionary based on your requirements.\n",
    "ENTITY_TO_ANONYMIZED_TOKEN_MAP = {\n",
    "    \"PERSON\": \"[PERSON]\",\n",
    "    \"PHONE\": \"[PHONE]\",\n",
    "    # \"EMAIL\": \"[EMAIL]\",\n",
    "    # \"ADDRESS\": \"[LOCATION]\",\n",
    "    # \"DATE\": \"[DATE]\",\n",
    "    # \"NATIONAL_ID\": \"[NATIONAL_ID]\",\n",
    "    # \"HOSPITAL_IDS\": \"[HOSPITAL_IDS]\",\n",
    "}\n",
    "\n",
    "def anonymize_text(text: str, ner_results: list) -> str:\n",
    "    \"\"\"\n",
    "    Anonymizes text based on NER results by replacing entities with tokens.\n",
    "    \"\"\"\n",
    "    # Sort entities by their start position in reverse order to avoid\n",
    "    # messing up the indices of future replacements.\n",
    "    sorted_results = sorted(ner_results, key=lambda x: x['start'], reverse=True)\n",
    "    \n",
    "    anonymized_text = text\n",
    "    \n",
    "    for entity in sorted_results:\n",
    "        # Extract entity type (e.g., 'B-PERSON' -> 'PERSON')\n",
    "        entity_type = entity['entity'].split('-')[-1]\n",
    "        \n",
    "        # Check if the entity type should be anonymized and if a token exists for it.\n",
    "        if entity_type in ENTITY_TO_ANONYMIZED_TOKEN_MAP:\n",
    "            start = entity['start']\n",
    "            end = entity['end']\n",
    "            anonymization_token = ENTITY_TO_ANONYMIZED_TOKEN_MAP[entity_type]\n",
    "            \n",
    "            anonymized_text = anonymized_text[:start] + anonymization_token + anonymized_text[end:]\n",
    "            \n",
    "    return anonymized_text\n",
    "\n",
    "# Example usage\n",
    "anonymized_text = anonymize_text(input_text, ner_results)\n",
    "print(anonymized_text)"
   ]
  }
 ],
 "metadata": {
  "language_info": {
   "name": "python"
  }
 },
 "nbformat": 4,
 "nbformat_minor": 5
}
